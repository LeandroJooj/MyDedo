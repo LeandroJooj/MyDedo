{
    "cells": [
        {
            "cell_type": "markdown",
            "source": [
                "<h1>Imports</h1>"
            ],
            "metadata": {}
        },
        {
            "cell_type": "code",
            "execution_count": 6,
            "source": [
                "import PIL\n",
                "import cv2\n",
                "import os\n",
                "import numpy as np\n",
                "import psycopg2\n",
                "import seaborn as sns\n",
                "import hashlib\n",
                "from psycopg2 import Error\n",
                "from matplotlib import image\n",
                "from matplotlib import pyplot\n",
                "from PIL import Image"
            ],
            "outputs": [],
            "metadata": {}
        },
        {
            "cell_type": "markdown",
            "source": [
                "<h2>Falta fazer:</h2>\n",
                "<h3>\n",
                "<ul>\n",
                "<li>Tratamento de exceção em criacao de pastas e img search</li>\n",
                "<li>Armazenar no BD</li>\n",
                "<li>Ler do BD</li>\n",
                "<li>Encriptar chaves com md5 no BD</li>\n",
                "</ul>\n",
                "</h3>"
            ],
            "metadata": {}
        },
        {
            "cell_type": "code",
            "execution_count": null,
            "source": [
                "#os.mkdir(\"imagens_alteradas/kkk\")\n",
                "#os.rmdir(\"imagens_alteradas/kkk\")"
            ],
            "outputs": [],
            "metadata": {}
        },
        {
            "cell_type": "markdown",
            "source": [
                "<h2> Vendo se as imagens são compatível</h2>"
            ],
            "metadata": {}
        },
        {
            "cell_type": "code",
            "execution_count": null,
            "source": [
                "minhaImagem1 = \"imagens/Impressao_digital.jpg\"\n",
                "minhaImagem2 = \"imagens/Impressao_digital.jpg\"\n",
                "Mimg1 = cv2.imread(minhaImagem2)\n",
                "Mimg2 = cv2.imread(minhaImagem2)\n",
                "    \n",
                "def _checagem(imagem1, imagem2):\n",
                "    if imagem1.shape != imagem2.shape:\n",
                "        return False\n",
                "    elif imagem1.size != imagem2.size:\n",
                "        return False\n",
                "    return True\n",
                "\n",
                "_checagem(Mimg1,Mimg2)"
            ],
            "outputs": [],
            "metadata": {}
        },
        {
            "cell_type": "markdown",
            "source": [
                "<h2>Comparando a imagem</h2>"
            ],
            "metadata": {}
        },
        {
            "cell_type": "code",
            "execution_count": null,
            "source": [
                "#podemos fazer um loop e comparar todas as imgs, come mais processamento mas é mais simples e certeiro\n",
                "minhaImagem1 = \"imagens/vermelho.png\"\n",
                "minhaImagem2 = \"imagens/imagemCinza.png\"\n",
                "Mimg1 = cv2.imread(minhaImagem1)\n",
                "Mimg2 = cv2.imread(minhaImagem2)\n",
                "def _comparacao(imagem1, imagem2):\n",
                "    diferenca = cv2.subtract(imagem1, imagem2)\n",
                "    b, g, r = cv2.split(diferenca)\n",
                "    if cv2.countNonZero(b) == 0 and cv2.countNonZero(g) == 0 and cv2.countNonZero(r) == 0:\n",
                "        print(\"imagens iguais\")\n",
                "        return True\n",
                "    return False\n",
                "\n",
                "_comparacao(Mimg1,Mimg2)"
            ],
            "outputs": [],
            "metadata": {}
        },
        {
            "cell_type": "markdown",
            "source": [
                "<h2> Classe de acesso banco de dados</h2>"
            ],
            "metadata": {}
        },
        {
            "cell_type": "code",
            "execution_count": null,
            "source": [
                "\n",
                "class Dao():    \n",
                "    def _inserir(categoria,digital, nomeDaPessoa):\n",
                "        try:\n",
                "        \n",
                "            connection = psycopg2.connect(user=\"george\",\n",
                "                                        password=\"1234\",\n",
                "                                        host=\"127.0.0.1\",\n",
                "                                        port=\"5432\",\n",
                "                                        database=\"pythondb\")\n",
                "\n",
                "            cursor = connection.cursor()                                            \n",
                "            insertQuery = \"INSERT INTO criminoso (nome,categoria,digital) VALUES ('\"+nomeDaPessoa+\"','\"+categoria+\"','\"+digital+\"')\"\n",
                "            cursor.execute(insertQuery)\n",
                "            connection.commit()\n",
                "        except (Exception, Error) as error:\n",
                "            print(\"Error while connecting to PostgreSQL\", error)\n",
                "\n",
                "#_inserir('queima1','bla23bla2','a6dacioso')"
            ],
            "outputs": [],
            "metadata": {}
        },
        {
            "cell_type": "markdown",
            "source": [
                "<h1> Procura por regiões da digital</h1>"
            ],
            "metadata": {}
        },
        {
            "cell_type": "markdown",
            "source": [
                "<h2>Arcos Angulares</h2>"
            ],
            "metadata": {}
        },
        {
            "cell_type": "code",
            "execution_count": null,
            "source": [
                "\n",
                "class ArcosAngulares():\n",
                "    def __init__(self, fonte,nome):\n",
                "        self.fonte = fonte\n",
                "        self.nome = nome\n",
                "            \n",
                "    def getAngular1(fonte,nome):\n",
                "        img = Image.open(\"imagens/\"+fonte)\n",
                "        pixels = img.crop((260,450,340,550))\n",
                "        identificacao= \"numeroDeUsersDoDB+1\"\n",
                "        pixels.save(\"imagens_alteradas/arcoAngular/angular1\"+nome+\".png\")\n",
                "        pixels = np.asarray(pixels)\n",
                "        pixels = pixels.astype(\"float32\")\n",
                "        pixels /= pixels.max()\n",
                "        return sum(pixels)\n",
                "\n",
                "    def getAngular2(fonte,nome):\n",
                "        img = Image.open(\"imagens/\"+fonte)\n",
                "        pixels = img.crop((260,250,340,350))\n",
                "        identificacao= \"numeroDeUsersDoDB+1\"\n",
                "        pixels.save(\"imagens_alteradas/arcoAngular/angular2\"+nome+\".png\")\n",
                "        pixels = np.asarray(pixels)\n",
                "        pixels = pixels.astype(\"float32\")\n",
                "        pixels /= pixels.max()\n",
                "        return sum(pixels)\n",
                "\n",
                "    def getNome(self):\n",
                "        return self.nome\n",
                "\n",
                "    def setNome(self,NovoNome):\n",
                "        self.nome = NovoNome\n",
                "    \n",
                "    def getFonte(self):\n",
                "        return self.fonte\n",
                "    \n",
                "    def setFonte(self, NovaFonte):\n",
                "        self.fonte = NovaFonte\n",
                "    \n",
                "# getArco2(\"Impressao_digital.jpg\",\"fabio\")\n",
                "    # pyplot.imshow(pixels, cmap=\"binary\")\n",
                "\n",
                "\n"
            ],
            "outputs": [],
            "metadata": {}
        },
        {
            "cell_type": "markdown",
            "source": [
                "<h2>Arcos verstícios</h2>"
            ],
            "metadata": {}
        },
        {
            "cell_type": "code",
            "execution_count": null,
            "source": [
                "class Versticios():\n",
                "    def __init__(self, fonte,nome):\n",
                "        self.fonte = fonte\n",
                "        self.nome = nome\n",
                "        \n",
                "    def getNome(self):\n",
                "        return self.nome\n",
                "\n",
                "    def setNome(self,NovoNome):\n",
                "        self.nome = NovoNome\n",
                "    \n",
                "    def getFonte(self):\n",
                "        return self.fonte\n",
                "    \n",
                "    def setFonte(self, NovaFonte):\n",
                "        self.fonte = NovaFonte\n",
                "\n",
                "    def getVerticilo1(self,fonte,nome):\n",
                "        img = Image.open(\"imagens/\"+fonte)\n",
                "        pixels = img.crop((200,200,340,340))\n",
                "        identificacao= \"numeroDeUsersDoDB+1\"\n",
                "        pixels.save(\"imagens_alteradas/arcoVerticilo/verticilo1\"+nome+\".png\")\n",
                "        pixels = np.asarray(pixels)\n",
                "        pixels = pixels.astype(\"float32\")\n",
                "        pixels /= pixels.max()\n",
                "    # pyplot.imshow(pixels, cmap=\"binary\")\n",
                "       # pixels = np.around(pixels)\n",
                "        return sum(pixels)\n",
                "\n",
                "    def getVerticilo2(self,fonte,nome):\n",
                "        img = Image.open(\"imagens/\"+fonte)\n",
                "        pixels = img.crop((400,500,500,650))\n",
                "        identificacao= \"numeroDeUsersDoDB+1\"\n",
                "        pixels.save(\"imagens_alteradas/arcoVerticilo/verticilo1\"+nome+\".png\")\n",
                "        pixels = np.asarray(pixels)\n",
                "        pixels = pixels.astype(\"float32\")\n",
                "        pixels /= pixels.max()\n",
                "        #pyplot.imshow(pixels, cmap=\"binary\")\n",
                "       # pixels = np.around(pixels)\n",
                "        return sum(pixels)\n",
                "\n",
                "    def getVerticilo3(self,fonte,nome):\n",
                "        img = Image.open(\"imagens/\"+fonte)\n",
                "        pixels = img.crop((150,500,250,650))\n",
                "        identificacao= \"numeroDeUsersDoDB+1\"\n",
                "        pixels.save(\"imagens_alteradas/arcoVerticilo/verticilo1\"+nome+\".png\")\n",
                "        pixels = np.asarray(pixels)\n",
                "        pixels = pixels.astype(\"float32\")\n",
                "        pixels /= pixels.max()\n",
                "        #pyplot.imshow(img, cmap=\"binary\")\n",
                "        #pixels = np.around(pixels)\n",
                "        return sum(pixels)\n",
                "\n",
                "\n",
                "\n",
                "# getVerticilo3(\"Impressao_digital.jpg\",\"fausto2\")"
            ],
            "outputs": [],
            "metadata": {}
        },
        {
            "cell_type": "markdown",
            "source": [
                "<h1>Presilha direita </h1>"
            ],
            "metadata": {}
        },
        {
            "cell_type": "code",
            "execution_count": null,
            "source": [
                "class PresilhaDireita():\n",
                "    def __init__(self, fonte,nome):\n",
                "        self.fonte = fonte\n",
                "        self.nome = nome\n",
                "        \n",
                "    def getNome(self):\n",
                "        return self.nome\n",
                "\n",
                "    def setNome(self,NovoNome):\n",
                "        self.nome = NovoNome\n",
                "    \n",
                "    def getFonte(self):\n",
                "        return self.fonte\n",
                "    \n",
                "    def setFonte(self, NovaFonte):\n",
                "        self.fonte = NovaFonte\n",
                "                \n",
                "    def getPresilha1(fonte,nome):\n",
                "        img = Image.open(\"imagens/\"+fonte)\n",
                "        pixels = img.crop((300,480,450,580))\n",
                "        identificacao= \"numeroDeUsersDoDB+1\"\n",
                "        pixels.save(\"imagens_alteradas/presilhaDireita/presilha1\"+nome+\".png\")\n",
                "        pixels = np.asarray(pixels)\n",
                "        pixels = pixels.astype(\"float32\")\n",
                "        pixels /= pixels.max()\n",
                "        #pyplot.imshow(pixels, cmap=\"binary\")\n",
                "        return sum(pixels)\n",
                "\n",
                "    def getPresilha2(fonte,nome):\n",
                "        img = Image.open(\"imagens/\"+fonte)\n",
                "        pixels = img.crop((150,200,250,300))\n",
                "        identificacao= \"numeroDeUsersDoDB+1\"\n",
                "        pixels.save(\"imagens_alteradas/presilhaDireita/presilha1\"+nome+\".png\")\n",
                "        pixels = np.asarray(pixels)\n",
                "        pixels = pixels.astype(\"float32\")\n",
                "        pixels /= pixels.max()\n",
                "        #pyplot.imshow(pixels, cmap=\"binary\")\n",
                "        return sum(pixels)"
            ],
            "outputs": [],
            "metadata": {}
        },
        {
            "cell_type": "markdown",
            "source": [
                "<h1>Presilha esquerda</h1>"
            ],
            "metadata": {}
        },
        {
            "cell_type": "code",
            "execution_count": 2,
            "source": [
                "\n",
                "class PresilhaEsquerda():\n",
                "\n",
                "    def __init__(self, fonte,nome):\n",
                "        self.fonte = fonte\n",
                "        self.nome = nome\n",
                "        \n",
                "    def getNome(self):\n",
                "        return self.nome\n",
                "\n",
                "    def setNome(self,NovoNome):\n",
                "        self.nome = NovoNome\n",
                "    \n",
                "    def getFonte(self):\n",
                "        return self.fonte\n",
                "    \n",
                "    def setFonte(self, NovaFonte):\n",
                "        self.fonte = NovaFonte\n",
                "\n",
                "    def getPresilha1(fonte,nome):\n",
                "        img = Image.open(\"imagens/\"+fonte)\n",
                "        pixels = img.crop((300,200,450,350))\n",
                "        identificacao= \"numeroDeUsersDoDB+1\"\n",
                "        pixels.save(\"imagens_alteradas/presilhaEsquerda/presilha1\"+nome+\".png\")\n",
                "        pixels = np.asarray(pixels)\n",
                "        pixels = pixels.astype(\"float32\")\n",
                "        pixels /= pixels.max()\n",
                "        #pyplot.imshow(pixels, cmap=\"binary\")\n",
                "        return sum(pixels)\n",
                "\n",
                "    def getPresilha2(fonte,nome):\n",
                "        img = Image.open(\"imagens/\"+fonte)\n",
                "        pixels = img.crop((180,580,270,700))\n",
                "        identificacao= \"numeroDeUsersDoDB+1\"\n",
                "        pixels.save(\"imagens_alteradas/presilhaEsquerda/presilha2\"+nome+\".png\")\n",
                "        pixels = np.asarray(pixels)\n",
                "        pixels = pixels.astype(\"float32\")\n",
                "        pixels /= pixels.max()\n",
                "        #pyplot.imshow(pixels, cmap=\"binary\")\n",
                "        return sum(pixels)\n"
            ],
            "outputs": [],
            "metadata": {}
        },
        {
            "cell_type": "markdown",
            "source": [
                "<h1>Classe pessoa</h1>\n",
                "<h2>Ao cadastrar digital no BD, criptograde com md5, exemplo: </h2>\n",
                "<h3>insert into criminoso(nome,categoria,digital) values('34enhor','queima2',md5('345'));</h3>"
            ],
            "metadata": {}
        },
        {
            "cell_type": "code",
            "execution_count": 13,
            "source": [
                "\n",
                "class Pessoa():\n",
                "    def __init__(self, fonte,nome):\n",
                "        self.fonte = fonte\n",
                "        self.nome = nome\n",
                "        \n",
                "    def getNome(self):\n",
                "        return self.nome\n",
                "\n",
                "    def setNome(self,NovoNome):\n",
                "        self.nome = NovoNome\n",
                "    \n",
                "    def getFonte(self):\n",
                "        return self.fonte\n",
                "    \n",
                "    def setFonte(self, NovaFonte):\n",
                "        self.fonte = NovaFonte\n",
                "    \n",
                "    def getArcoAngular(self):\n",
                "        meuArcoAngular = ArcosAngulares(self.fonte,self.nome)\n",
                "        arco1 = meuArcoAngular.getAngular1(self.fonte,self.nome)\n",
                "        arco2 = meuArcoAngular.getAngular2(self.fonte,self.nome)\n",
                "        arcos = [sum(arco1),sum(arco2)]\n",
                "        return arcos\n",
                "\n",
                "        \n",
                "    def getVerticios(self):\n",
                "        meuVersticio = Versticios(self.fonte,self.nome)\n",
                "        verticilio1 = meuVersticio.getVerticilo1(self.fonte,self.nome)\n",
                "        verticilio2 = meuVersticio.getVerticilo2(self.fonte,self.nome)\n",
                "        verticilio3 = meuVersticio.getVerticilo3(self.fonte,self.nome)\n",
                "        verticilios = [sum(verticilio1),sum(verticilio2),sum(verticilio3)]\n",
                "        return verticilios\n",
                "\n",
                "    def getPresilhaDireita(self):\n",
                "        minhaPresilha = PresilhaDireita(self.fonte,self.nome)\n",
                "        presilha1 = minhaPresilha.getPresilha1(self.fonte,self.nome)\n",
                "        presilha2 = minhaPresilha.getPresilha2(self.fonte,self.nome)\n",
                "        presilhas = [sum(presilha1),sum(presilha2)]\n",
                "        return presilhas\n",
                "    \n",
                "    def getPresilhaEsquerda(self):\n",
                "        minhaPresilha = PresilhaEsquerda(self.fonte,self.nome)\n",
                "        presilha1 = minhaPresilha.getPresilha1()\n",
                "        presilha2 = minhaPresilha.getPresilha2()\n",
                "        presilhas = [sum(presilha1),sum(presilha2)]\n",
                "        return presilhas     \n",
                "    \n",
                "\n",
                "geraldo = Pessoa(\"Impressao_digital.jpg\",\"Geraldo\")\n",
                "print(geraldo.getVerticios())\n",
                "\n",
                "#Resultadp da mesma digital com e sem arredondamento, respectivamente\n",
                "#[10582.0, 8291.0, 8393.0]\n",
                "#[10731.557838439941, 8284.847286224365, 8397.600311279297]"
            ],
            "outputs": [
                {
                    "output_type": "stream",
                    "name": "stdout",
                    "text": [
                        "[10731.557838439941, 8284.847286224365, 8397.600311279297]\n"
                    ]
                }
            ],
            "metadata": {}
        }
    ],
    "metadata": {
        "orig_nbformat": 4,
        "language_info": {
            "name": "python",
            "version": "3.9.2",
            "mimetype": "text/x-python",
            "codemirror_mode": {
                "name": "ipython",
                "version": 3
            },
            "pygments_lexer": "ipython3",
            "nbconvert_exporter": "python",
            "file_extension": ".py"
        },
        "kernelspec": {
            "name": "python3",
            "display_name": "Python 3.9.2 64-bit"
        },
        "interpreter": {
            "hash": "916dbcbb3f70747c44a77c7bcd40155683ae19c65e1c03b4aa3499c5328201f1"
        }
    },
    "nbformat": 4,
    "nbformat_minor": 2
}
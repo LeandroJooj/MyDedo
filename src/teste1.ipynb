{
    "cells": [
        {
            "cell_type": "markdown",
            "source": [
                "<hr><h1>Imports </h1>"
            ],
            "metadata": {}
        },
        {
            "cell_type": "code",
            "execution_count": null,
            "source": [
                "import PIL\n",
                "import numpy as np\n",
                "from matplotlib import image\n",
                "from matplotlib import pyplot\n",
                "from PIL import Image"
            ],
            "outputs": [],
            "metadata": {}
        },
        {
            "cell_type": "markdown",
            "source": [
                "<hr><h1>Manipulando dados da imagem</h1>"
            ],
            "metadata": {}
        },
        {
            "cell_type": "markdown",
            "source": [
                "<h2> Carregando a imagem </h2>"
            ],
            "metadata": {}
        },
        {
            "cell_type": "code",
            "execution_count": null,
            "source": [
                "imagem = Image.open(\"imagens/vermelho.png\")"
            ],
            "outputs": [],
            "metadata": {}
        },
        {
            "cell_type": "code",
            "execution_count": null,
            "source": [
                "print(\"Formato: \",imagem.format)\n",
                "print(\"Canal do formato de pixels: \",imagem.mode)\n",
                "print(\"Tamanho da imagem: \",imagem.size)"
            ],
            "outputs": [],
            "metadata": {}
        },
        {
            "cell_type": "code",
            "execution_count": null,
            "source": [
                "#data = image.imread(\"imagens/vermelho.png\") #Aqui podemos ver a imagem\n",
                "data = np.asarray(imagem)"
            ],
            "outputs": [],
            "metadata": {}
        },
        {
            "cell_type": "code",
            "execution_count": null,
            "source": [
                "print(\"tipo de dado carregado no array: \",data.dtype)\n",
                "print(\"forma do array (x,y,tupla_dos_pixeis_da_img): \",data.shape)\n",
                "print(\"valor máximo: \",data.max())\n",
                "print(\"valor mínimo: \",data.min())"
            ],
            "outputs": [],
            "metadata": {}
        },
        {
            "cell_type": "markdown",
            "source": [
                "<h2>Exibir o array como uma imagem</h2>"
            ],
            "metadata": {}
        },
        {
            "cell_type": "code",
            "execution_count": null,
            "source": [
                "pyplot.imshow(data)"
            ],
            "outputs": [],
            "metadata": {}
        },
        {
            "cell_type": "markdown",
            "source": [
                "<h2>convertendo array(de pixels) em um objeto Image Pillow</h2>"
            ],
            "metadata": {}
        },
        {
            "cell_type": "code",
            "execution_count": null,
            "source": [
                "image2 = Image.fromarray(data)\n",
                "type(image2)"
            ],
            "outputs": [],
            "metadata": {}
        },
        {
            "cell_type": "markdown",
            "source": [
                "<h2>salvando imagens em disco</h2>"
            ],
            "metadata": {}
        },
        {
            "cell_type": "code",
            "execution_count": null,
            "source": [
                "imagem.save(\"imagens/novaImg.png\", FORMAT=\"PNG\")"
            ],
            "outputs": [],
            "metadata": {}
        },
        {
            "cell_type": "markdown",
            "source": [
                "<h2>Carregando a imagem e verificando o formato </h2>"
            ],
            "metadata": {}
        },
        {
            "cell_type": "markdown",
            "source": [
                "<hr><h1>Trabalhando com imagem cinza</h1>"
            ],
            "metadata": {}
        },
        {
            "cell_type": "markdown",
            "source": [
                "<h2>convertendo imagem em escala de cinza</h2>"
            ],
            "metadata": {}
        },
        {
            "cell_type": "code",
            "execution_count": null,
            "source": [
                "imagem3 = Image.open(\"imagens/vermelho.png\")\n",
                "print(imagem3.format)"
            ],
            "outputs": [],
            "metadata": {}
        },
        {
            "cell_type": "code",
            "execution_count": null,
            "source": [
                "#Quando fazemos isso temos perda de dados pois perdemos as informações coloridas\n",
                "#Como muitos projetos usam imagens em preto em branco então faremos isso aqui\n",
                "#nós teremos apenas a intensidade de preto e branco \n",
                "imagem_cinza = imagem.convert(mode =\"L\")\n",
                "meudado = np.asarray(imagem_cinza)\n",
                "\n",
                "print(\"cinza: \",type(imagem_cinza))\n",
                "print(\"colorida: \",type(imagem))"
            ],
            "outputs": [],
            "metadata": {}
        },
        {
            "cell_type": "markdown",
            "source": [
                "<h2>Salvando imagem cinza</h2>"
            ],
            "metadata": {}
        },
        {
            "cell_type": "code",
            "execution_count": null,
            "source": [
                "imagem_cinza.save(\"imagens/imagemCinza.png\", FORMAT=\"PNG\")"
            ],
            "outputs": [],
            "metadata": {}
        },
        {
            "cell_type": "markdown",
            "source": [
                "<hr><h1> Redimensionamento de imagens</h1>"
            ],
            "metadata": {}
        },
        {
            "cell_type": "code",
            "execution_count": null,
            "source": [
                "#esse só diminui\n",
                "print(\"antes: \",imagem.size)\n",
                "imagem.thumbnail((720,720))\n",
                "print(\"depois: \",imagem.size)\n",
                "\n",
                "#É importante quando temos dimensões quando temos dimensões aleatórias ou em imagens sem nenhum padrão\n",
                "#e você tem que deixar ela numa dimensão padrão para um determinado processamento\n",
                "#|A função thumbnail faz a redução padrão já pra não distorcer a imagem, se vc quiser distorcer é só usar o resize\n",
                "\n",
                "imagem.resize((100,100))\n",
                "print(\"com resize: \", imagem.size)"
            ],
            "outputs": [],
            "metadata": {}
        },
        {
            "cell_type": "markdown",
            "source": [
                "<h2> Inversão de imagem </h2>"
            ],
            "metadata": {}
        },
        {
            "cell_type": "code",
            "execution_count": null,
            "source": [
                "#inversão horizontal\n",
                "#Esses métodos são muito utilizados em processos de treinamento de deep e machine learning\n",
                "horizontal_image = imagem.transpose(Image.FLIP_LEFT_RIGHT)\n",
                "pyplot.imshow(horizontal_image)"
            ],
            "outputs": [],
            "metadata": {}
        },
        {
            "cell_type": "markdown",
            "source": [
                "<h2>inversão vertical</h2>"
            ],
            "metadata": {}
        },
        {
            "cell_type": "code",
            "execution_count": null,
            "source": [
                "vertical_image = imagem.transpose(Image.FLIP_TOP_BOTTOM)"
            ],
            "outputs": [],
            "metadata": {}
        },
        {
            "cell_type": "markdown",
            "source": [
                "<h2>rotacionando a imagem em 45°</h2>"
            ],
            "metadata": {}
        },
        {
            "cell_type": "code",
            "execution_count": null,
            "source": [
                "pyplot.imshow(imagem.rotate(45))"
            ],
            "outputs": [],
            "metadata": {}
        },
        {
            "cell_type": "markdown",
            "source": [
                "<h2>rotacionando a imagem em 90°</h2>"
            ],
            "metadata": {}
        },
        {
            "cell_type": "code",
            "execution_count": null,
            "source": [
                "pyplot.imshow(imagem.rotate(90))"
            ],
            "outputs": [],
            "metadata": {}
        },
        {
            "cell_type": "markdown",
            "source": [
                "<h2>Cortar imagem </h2>"
            ],
            "metadata": {}
        },
        {
            "cell_type": "code",
            "execution_count": null,
            "source": [
                "imagem = Image.open(\"imagens/vermelho.png\")#recarregando a imagem pra evitar confusão\n",
                "pyplot.imshow(imagem.crop((100,100,200,200)))"
            ],
            "outputs": [],
            "metadata": {}
        },
        {
            "cell_type": "markdown",
            "source": [
                "<hr><h1>Pré processamento de imagem </h1>"
            ],
            "metadata": {}
        },
        {
            "cell_type": "markdown",
            "source": [
                "<h2>normalizando valores do pixel</h2>"
            ],
            "metadata": {}
        },
        {
            "cell_type": "code",
            "execution_count": null,
            "source": [
                "imagem = Image.open(\"imagens/Impressao_digital.jpg\")\n",
                "pixels = np.asarray(imagem)\n",
                "\n",
                "print(\"tipos de dados: \",pixels.dtype)\n",
                "print(\"Min: \",pixels.min(),\"\\nMax: \",pixels.max())"
            ],
            "outputs": [],
            "metadata": {}
        },
        {
            "cell_type": "markdown",
            "source": [
                "<h2>converter inteiros em float</h2>"
            ],
            "metadata": {}
        },
        {
            "cell_type": "code",
            "execution_count": null,
            "source": [
                "pixels = pixels.astype('float32')"
            ],
            "outputs": [],
            "metadata": {}
        },
        {
            "cell_type": "markdown",
            "source": [
                "<h2>normaliza os valores</h2>"
            ],
            "metadata": {}
        },
        {
            "cell_type": "code",
            "execution_count": null,
            "source": [
                "pixels /= pixels.max()"
            ],
            "outputs": [],
            "metadata": {}
        },
        {
            "cell_type": "markdown",
            "source": [
                "<h2> verificando normalização</h2>"
            ],
            "metadata": {}
        },
        {
            "cell_type": "code",
            "execution_count": null,
            "source": [
                "print(\"tipos de dados: \",pixels.dtype)\n",
                "print(\"Min: \",pixels.min(),\"\\nMax: \",pixels.max())\n",
                "\n",
                "#Antes variava entre 0 e 255, agora só varia entre 0 e 1"
            ],
            "outputs": [],
            "metadata": {}
        }
    ],
    "metadata": {
        "orig_nbformat": 4,
        "language_info": {
            "name": "python",
            "version": "3.9.2",
            "mimetype": "text/x-python",
            "codemirror_mode": {
                "name": "ipython",
                "version": 3
            },
            "pygments_lexer": "ipython3",
            "nbconvert_exporter": "python",
            "file_extension": ".py"
        },
        "kernelspec": {
            "name": "python3",
            "display_name": "Python 3.9.2 64-bit"
        },
        "interpreter": {
            "hash": "916dbcbb3f70747c44a77c7bcd40155683ae19c65e1c03b4aa3499c5328201f1"
        }
    },
    "nbformat": 4,
    "nbformat_minor": 2
}
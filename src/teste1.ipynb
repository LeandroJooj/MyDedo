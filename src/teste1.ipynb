{
    "cells": [
        {
            "cell_type": "code",
            "execution_count": null,
            "source": [
                "import PIL\n",
                "from PIL import Image\n",
                "import numpy as np"
            ],
            "outputs": [],
            "metadata": {}
        },
        {
            "cell_type": "code",
            "execution_count": null,
            "source": [
                "imagem = Image.open(\"imagens/vermelho.png\")\n",
                "\n"
            ],
            "outputs": [],
            "metadata": {}
        },
        {
            "cell_type": "code",
            "execution_count": null,
            "source": [
                "imagem"
            ],
            "outputs": [],
            "metadata": {}
        },
        {
            "cell_type": "code",
            "execution_count": null,
            "source": [
                "print(\"Formato: \",imagem.format)\n",
                "print(\"Canal do formato de pixels: \",imagem.mode)\n",
                "print(\"Tamanho da imagem: \",imagem.size)"
            ],
            "outputs": [],
            "metadata": {}
        },
        {
            "cell_type": "code",
            "execution_count": null,
            "source": [
                "\n",
                "from matplotlib import image\n",
                "from matplotlib import pyplot"
            ],
            "outputs": [],
            "metadata": {}
        },
        {
            "cell_type": "code",
            "execution_count": null,
            "source": [
                "#data = image.imread(\"imagens/vermelho.png\")\n",
                "data = np.asarray(imagem)\n",
                "data"
            ],
            "outputs": [],
            "metadata": {}
        },
        {
            "cell_type": "code",
            "execution_count": null,
            "source": [
                "print(\"tipo de dado carregado no array: \",data.dtype)\n",
                "print(\"forma do array (x,y,tupla_dos_pixeis_da_img): \",data.shape)\n",
                "print(\"valor máximo: \",data.max())\n",
                "print(\"valor mínimo: \",data.min())"
            ],
            "outputs": [],
            "metadata": {}
        },
        {
            "cell_type": "code",
            "execution_count": null,
            "source": [
                "#exibir o array como uma imagem\n",
                "pyplot.imshow(data)\n"
            ],
            "outputs": [],
            "metadata": {}
        },
        {
            "cell_type": "code",
            "execution_count": null,
            "source": [
                "#convertendo array(de pixels) em um objeto Image Pillow\n",
                "image2 = Image.fromarray(data)\n",
                "type(image2)\n"
            ],
            "outputs": [],
            "metadata": {}
        },
        {
            "cell_type": "code",
            "execution_count": null,
            "source": [
                "#salvando imagens em disco\n",
                "imagem.save(\"imagens/novaImg.png\", FORMAT=\"PNG\")\n"
            ],
            "outputs": [],
            "metadata": {}
        },
        {
            "cell_type": "code",
            "execution_count": null,
            "source": [
                "#Carregando a imagem e verificando o formato \n",
                "imagem3 = Image.open(\"imagens/vermelho.png\")\n",
                "print(imagem3.format)"
            ],
            "outputs": [],
            "metadata": {}
        },
        {
            "cell_type": "code",
            "execution_count": null,
            "source": [
                "#convertendo imagem em escala de cinza\n",
                "#Quando fazemos isso temos perda de dados pois perdemos as informações coloridas\n",
                "#Como muitos projetos usam imagens em preto em branco então faremos isso aqui\n",
                "#nós teremos apenas a intensidade de preto e branco \n",
                "imagem_cinza = imagem.convert(mode =\"L\")\n",
                "meudado = np.asarray(imagem_cinza)\n",
                "\n",
                "print(\"cinza: \",type(imagem_cinza))\n",
                "print(\"colorida: \",type(imagem))"
            ],
            "outputs": [],
            "metadata": {}
        },
        {
            "cell_type": "code",
            "execution_count": null,
            "source": [
                "#salvando imagem cinza\n",
                "imagem_cinza.save(\"imagens/imagemCinza.png\", FORMAT=\"PNG\")"
            ],
            "outputs": [],
            "metadata": {}
        },
        {
            "cell_type": "markdown",
            "source": [
                "<hr><h1> Redimensionamento de imagens</h1>"
            ],
            "metadata": {}
        },
        {
            "cell_type": "code",
            "execution_count": null,
            "source": [
                "#esse só diminui\n",
                "print(\"antes: \",imagem.size)\n",
                "imagem.thumbnail((720,720))\n",
                "print(\"depois: \",imagem.size)\n",
                "\n",
                "#É importante quando temos dimensões quando temos dimensões aleatórias ou em imagens sem nenhum padrão\n",
                "#e você tem que deixar ela numa dimensão padrão para um determinado processamento\n",
                "#|A função thumbnail faz a redução padrão já pra não distorcer a imagem, se vc quiser distorcer é só usar o resize\n",
                "\n",
                "imagem.resize((100,100))\n",
                "print(\"com resize: \", imagem.size)"
            ],
            "outputs": [],
            "metadata": {}
        },
        {
            "cell_type": "markdown",
            "source": [
                "<hr>\n",
                "<h2> Inversão de imagem </h2>"
            ],
            "metadata": {}
        },
        {
            "cell_type": "code",
            "execution_count": null,
            "source": [
                "#inversão horizontal\n",
                "#Esses métodos são muito utilizados em processos de treinamento de deep e machine learning\n",
                "horizontal_image = imagem.transpose(Image.FLIP_LEFT_RIGHT)\n",
                "pyplot.imshow(horizontal_image)"
            ],
            "outputs": [],
            "metadata": {}
        },
        {
            "cell_type": "code",
            "execution_count": null,
            "source": [
                "#inversão vertical\n",
                "vertical_image = imagem.transpose(Image.FLIP_TOP_BOTTOM)"
            ],
            "outputs": [],
            "metadata": {}
        },
        {
            "cell_type": "code",
            "execution_count": null,
            "source": [
                "#rotacionando a imagem em 45°\n",
                "pyplot.imshow(imagem.rotate(45))\n",
                "\n"
            ],
            "outputs": [],
            "metadata": {}
        },
        {
            "cell_type": "code",
            "execution_count": null,
            "source": [
                "#rotacionando a imagem em 90°\n",
                "pyplot.imshow(imagem.rotate(90))"
            ],
            "outputs": [],
            "metadata": {}
        },
        {
            "cell_type": "markdown",
            "source": [
                "<hr> <h1>Cortar imagem </h1>"
            ],
            "metadata": {}
        },
        {
            "cell_type": "code",
            "execution_count": null,
            "source": [
                "imagem = Image.open(\"imagens/vermelho.png\")#recarregando a imagem pra evitar confusão\n",
                "pyplot.imshow(imagem.crop((100,100,200,200)))"
            ],
            "outputs": [],
            "metadata": {}
        },
        {
            "cell_type": "markdown",
            "source": [
                "<hr><h1>Pré processamento de imagem </h1>"
            ],
            "metadata": {}
        },
        {
            "cell_type": "code",
            "execution_count": 108,
            "source": [
                "#normalizando valores do pixel\n",
                "imagem = Image.open(\"imagens/Impressao_digital.jpg\")\n",
                "pixels = np.asarray(imagem)\n",
                "\n",
                "print(\"tipos de dados: \",pixels.dtype)\n",
                "print(\"Min: \",pixels.min(),\"\\nMax: \",pixels.max())\n",
                "\n"
            ],
            "outputs": [
                {
                    "output_type": "stream",
                    "name": "stdout",
                    "text": [
                        "tipos de dados:  uint8\n",
                        "Min:  0 \n",
                        "Max:  255\n"
                    ]
                }
            ],
            "metadata": {}
        },
        {
            "cell_type": "code",
            "execution_count": 105,
            "source": [
                "#converter inteiros em float\n",
                "pixels = pixels.astype('float32')"
            ],
            "outputs": [],
            "metadata": {}
        },
        {
            "cell_type": "code",
            "execution_count": 106,
            "source": [
                "#normaliza os valores\n",
                "pixels /= pixels.max()"
            ],
            "outputs": [],
            "metadata": {}
        },
        {
            "cell_type": "code",
            "execution_count": 107,
            "source": [
                "#verificando normalização\n",
                "print(\"tipos de dados: \",pixels.dtype)\n",
                "print(\"Min: \",pixels.min(),\"\\nMax: \",pixels.max())\n",
                "\n",
                "#Antes variava entre 0 e 255, agora só varia entre 0 e 1"
            ],
            "outputs": [
                {
                    "output_type": "stream",
                    "name": "stdout",
                    "text": [
                        "tipos de dados:  float32\n",
                        "Min:  0.0 \n",
                        "Max:  1.0\n"
                    ]
                }
            ],
            "metadata": {}
        }
    ],
    "metadata": {
        "orig_nbformat": 4,
        "language_info": {
            "name": "python",
            "version": "3.9.2",
            "mimetype": "text/x-python",
            "codemirror_mode": {
                "name": "ipython",
                "version": 3
            },
            "pygments_lexer": "ipython3",
            "nbconvert_exporter": "python",
            "file_extension": ".py"
        },
        "kernelspec": {
            "name": "python3",
            "display_name": "Python 3.9.2 64-bit"
        },
        "interpreter": {
            "hash": "916dbcbb3f70747c44a77c7bcd40155683ae19c65e1c03b4aa3499c5328201f1"
        }
    },
    "nbformat": 4,
    "nbformat_minor": 2
}
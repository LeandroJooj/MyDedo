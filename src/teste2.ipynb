{
    "cells": [
        {
            "cell_type": "markdown",
            "source": [
                "<h1>Imports</h1>"
            ],
            "metadata": {}
        },
        {
            "cell_type": "code",
            "execution_count": 2,
            "source": [
                "import cv2\n",
                "import numpy as np"
            ],
            "outputs": [],
            "metadata": {}
        },
        {
            "cell_type": "markdown",
            "source": [
                "<h1>Script de comparação</h1>"
            ],
            "metadata": {}
        },
        {
            "cell_type": "code",
            "execution_count": 13,
            "source": [
                "original = cv2.imread(\"imagens/Impressao_digital.jpg\")\n",
                "duplicate = cv2.imread(\"imagens/vermelho.png\")# 1) Check if 2 images are equals\n",
                "if original.shape == duplicate.shape:\n",
                "  print(\"The images have same size and channels\")\n",
                "  difference = cv2.subtract(original, duplicate)\n",
                "  b, g, r = cv2.split(difference)\n",
                "\n",
                "  if cv2.countNonZero(b) == 0 and cv2.countNonZero(g) == 0 and cv2.countNonZero(r) == 0:\n",
                "    print(\"The images are completely Equal\")\n",
                "    \n",
                "else:\n",
                "  print(\"the images are not equal\")"
            ],
            "outputs": [
                {
                    "output_type": "stream",
                    "name": "stdout",
                    "text": [
                        "the images are not equal\n"
                    ]
                }
            ],
            "metadata": {}
        }
    ],
    "metadata": {
        "orig_nbformat": 4,
        "language_info": {
            "name": "python",
            "version": "3.9.2",
            "mimetype": "text/x-python",
            "codemirror_mode": {
                "name": "ipython",
                "version": 3
            },
            "pygments_lexer": "ipython3",
            "nbconvert_exporter": "python",
            "file_extension": ".py"
        },
        "kernelspec": {
            "name": "python3",
            "display_name": "Python 3.9.2 64-bit"
        },
        "interpreter": {
            "hash": "916dbcbb3f70747c44a77c7bcd40155683ae19c65e1c03b4aa3499c5328201f1"
        }
    },
    "nbformat": 4,
    "nbformat_minor": 2
}